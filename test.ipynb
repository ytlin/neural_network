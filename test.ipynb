{
 "cells": [
  {
   "cell_type": "code",
   "execution_count": 14,
   "metadata": {},
   "outputs": [
    {
     "name": "stdout",
     "output_type": "stream",
     "text": [
      "0.7991666666666667\n"
     ]
    }
   ],
   "source": [
    "import tensorflow as tf\n",
    "import numpy as np\n",
    "from os import listdir\n",
    "import imageio\n",
    "import matplotlib.pyplot as plt\n",
    "from sklearn.decomposition import PCA\n",
    "\n",
    "def pcaTo2D(imgs):\n",
    "    imgs = np.reshape(imgs, (-1, 30*30))\n",
    "    pca = PCA(n_components=2)\n",
    "    imgs = pca.fit_transform(imgs)\n",
    "    return imgs\n",
    "def displayImage(img):\n",
    "    plt.imshow(img, cmap='gray', vmin=0,vmax=255)\n",
    "    plt.show()\n",
    "def loadImages(path):\n",
    "    imagesList = listdir(path)\n",
    "    loadedImages = []\n",
    "    path+='/' if path[-1] != '/' else '' \n",
    "    for image in imagesList:\n",
    "        img = imageio.imread(path + image)\n",
    "        loadedImages.append(img)\n",
    "    return loadedImages\n",
    "\n",
    "# load one directory's BMP files to np array imgs\n",
    "imgs_1 = np.array(loadImages('./Data_Train/Class1/'))\n",
    "imgs_2 = np.array(loadImages('./Data_Train/Class2/'))\n",
    "imgs_3 = np.array(loadImages('./Data_Train/Class3/'))\n",
    "imgs = np.append(imgs_1, imgs_2, axis=0)\n",
    "imgs = np.append(imgs, imgs_3, axis=0)\n",
    "# pca 30*30 images to 2 principle components\n",
    "pca_imgs = pcaTo2D(imgs)\n",
    "# append the x0 to head of the matrix([x00, x01, x02], [x10, x11, x12].....)\n",
    "X0 = np.full((pca_imgs.shape[0], 1), 1)\n",
    "pca_imgs = np.append(X0, pca_imgs, axis=1)\n",
    "\n",
    "\n",
    "# Create the model\n",
    "x = tf.placeholder(tf.float32, [None, 3])\n",
    "# Layer 1\n",
    "W1 = tf.Variable(tf.truncated_normal([3, 6], stddev=0.1))\n",
    "B1 = tf.Variable(tf.constant(0.1, shape=[6]))\n",
    "Y1 = tf.nn.sigmoid(tf.matmul(x, W1) + B1)\n",
    "# Layer 2 \n",
    "W2 = tf.Variable(tf.truncated_normal([6, 3], stddev=0.1))\n",
    "B2 = tf.Variable(tf.constant(0.1, shape=[3]))\n",
    "Y2 = (tf.matmul(Y1, W2) + B2)\n",
    "\n",
    "y_ = tf.placeholder(tf.float32, [None, 3])\n",
    "cross_entropy = tf.reduce_mean(\n",
    "                tf.nn.softmax_cross_entropy_with_logits_v2(labels=y_, logits=Y2))\n",
    "train_step = tf.train.GradientDescentOptimizer(0.05).minimize(cross_entropy)\n",
    "\n",
    "\n",
    "sess = tf.InteractiveSession()\n",
    "tf.global_variables_initializer().run()\n",
    "for i in range(600):\n",
    "    xx, yy = (pca_imgs[i:i+1], np.array([[1,0,0]]))\n",
    "    sess.run(train_step, feed_dict={x: xx, y_: yy})\n",
    "    xx, yy = (pca_imgs[i+1000:i+1000+1], np.array([[0,1,0]]))\n",
    "    sess.run(train_step, feed_dict={x: xx, y_: yy})\n",
    "    xx, yy = (pca_imgs[i+2000:i+2000+1], np.array([[0,0,1]]))\n",
    "    sess.run(train_step, feed_dict={x: xx, y_: yy})\n",
    "\n",
    "    \n",
    "output = tf.argmax(tf.nn.softmax(Y2), 1)\n",
    "output2 = tf.nn.softmax(Y2)\n",
    "t=0\n",
    "f=0\n",
    "for i in range(600, 1000):\n",
    "    o = sess.run(output, feed_dict={x: pca_imgs[i:i+1],\n",
    "                                                  y_: np.array([[1,0,0]])})\n",
    "    if(o == 0):\n",
    "        t+=1\n",
    "    else:\n",
    "        f+=1\n",
    "    o = sess.run(output, feed_dict={x: pca_imgs[i+1000:i+1000+1],\n",
    "                                                  y_: np.array([[0,1,0]])})\n",
    "    if(o == 1):\n",
    "        t+=1\n",
    "    else:\n",
    "        f+=1\n",
    "    o = sess.run(output, feed_dict={x: pca_imgs[i+2000:i+2000+1],\n",
    "                                                  y_: np.array([[0,0,1]])})\n",
    "    if(o == 2):\n",
    "        t+=1\n",
    "    else:\n",
    "        f+=1\n",
    "print(t/(t+f))"
   ]
  },
  {
   "cell_type": "code",
   "execution_count": null,
   "metadata": {},
   "outputs": [],
   "source": []
  },
  {
   "cell_type": "code",
   "execution_count": null,
   "metadata": {},
   "outputs": [],
   "source": []
  },
  {
   "cell_type": "code",
   "execution_count": 19,
   "metadata": {},
   "outputs": [
    {
     "name": "stdout",
     "output_type": "stream",
     "text": [
      "PCA(copy=True, iterated_power='auto', n_components=2, random_state=None,\n",
      "  svd_solver='auto', tol=0.0, whiten=False)\n",
      "0.3677835587460466\n",
      "PCA(copy=True, iterated_power='auto', n_components=2, random_state=None,\n",
      "  svd_solver='auto', tol=0.0, whiten=False)\n",
      "0.40519715236390547\n",
      "PCA(copy=True, iterated_power='auto', n_components=2, random_state=None,\n",
      "  svd_solver='auto', tol=0.0, whiten=False)\n",
      "0.32797836490159404\n",
      "(3000, 2)\n"
     ]
    },
    {
     "data": {
      "image/png": "[encoded data removed]",
      "text/plain": [
       "<matplotlib.figure.Figure at 0x7f8906513e80>"
      ]
     },
     "metadata": {},
     "output_type": "display_data"
    }
   ],
   "source": [
    "pca_imgs_1 = pcaTo2D(imgs_1)\n",
    "pca_imgs_2 = pcaTo2D(imgs_2)\n",
    "pca_imgs_3 = pcaTo2D(imgs_3)\n",
    "imgs = np.append(pca_imgs_1, pca_imgs_2, axis=0)\n",
    "imgs = np.append(imgs, pca_imgs_3, axis=0)\n",
    "print(imgs.shape)\n",
    "plt.scatter(imgs[:, 0], imgs[:, 1],marker='o')\n",
    "plt.show()"
   ]
  },
  {
   "cell_type": "code",
   "execution_count": 20,
   "metadata": {},
   "outputs": [
    {
     "name": "stdout",
     "output_type": "stream",
     "text": [
      "PCA(copy=True, iterated_power='auto', n_components=2, random_state=None,\n",
      "  svd_solver='auto', tol=0.0, whiten=False)\n",
      "0.37806723\n"
     ]
    }
   ],
   "source": [
    "from sklearn.datasets import fetch_olivetti_faces\n",
    "oliv=fetch_olivetti_faces()\n",
    "X,y=oliv.data, oliv.target\n",
    "pca_oliv = PCA(2)\n",
    "X_proj = pca_oliv.fit_transform(X)\n",
    "print(pca_oliv)\n",
    "print(np.sum(pca_oliv.explained_variance_ratio_))"
   ]
  },
  {
   "cell_type": "code",
   "execution_count": 9,
   "metadata": {},
   "outputs": [
    {
     "ename": "ImportError",
     "evalue": "No module named tensorflow",
     "output_type": "error",
     "traceback": [
      "\u001b[0;31m---------------------------------------------------------------------------\u001b[0m",
      "\u001b[0;31mImportError\u001b[0m                               Traceback (most recent call last)",
      "\u001b[0;32m<ipython-input-9-41389fad42b5>\u001b[0m in \u001b[0;36m<module>\u001b[0;34m()\u001b[0m\n\u001b[0;32m----> 1\u001b[0;31m \u001b[0;32mimport\u001b[0m \u001b[0mtensorflow\u001b[0m \u001b[0;32mas\u001b[0m \u001b[0mtf\u001b[0m\u001b[0;34m\u001b[0m\u001b[0m\n\u001b[0m",
      "\u001b[0;31mImportError\u001b[0m: No module named tensorflow"
     ]
    }
   ],
   "source": [
    "import tensorflow as tf"
   ]
  },
  {
   "cell_type": "code",
   "execution_count": null,
   "metadata": {},
   "outputs": [],
   "source": []
  }
 ],
 "metadata": {
  "kernelspec": {
   "display_name": "Python 3",
   "language": "python",
   "name": "python3"
  },
  "language_info": {
   "codemirror_mode": {
    "name": "ipython",
    "version": 3
   },
   "file_extension": ".py",
   "mimetype": "text/x-python",
   "name": "python",
   "nbconvert_exporter": "python",
   "pygments_lexer": "ipython3",
   "version": "3.6.4"
  }
 },
 "nbformat": 4,
 "nbformat_minor": 2
}
